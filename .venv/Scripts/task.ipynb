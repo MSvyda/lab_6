{
 "cells": [
  {
   "metadata": {},
   "cell_type": "markdown",
   "source": "",
   "id": "a7765c76f00da849"
  },
  {
   "metadata": {},
   "cell_type": "markdown",
   "source": "# Лабораторна робота: Ознайомлення з використанням Python в середовищі Jupyter Notebook\n",
   "id": "b05da47ca7cfe935"
  },
  {
   "metadata": {},
   "cell_type": "markdown",
   "source": [
    "# Грузія\n",
    "**Грузія** — країна, розташована на межі Європи та Азії, на березі Чорного моря.\n",
    "\n",
    "---\n",
    "\n",
    "## Загальна інформація\n",
    "- **Площа**: *69,700 км²*\n",
    "- **Населення**: *понад 3.7 млн осіб*\n",
    "- **Державний устрій**: **парламентська республіка**\n",
    "\n",
    "## Видатні особистості\n",
    "1. **Шота Руставелі** — грузинський поет і автор \"Витязя в тигровій шкурі\".\n",
    "2. **Звіад Гамсахурдіа** — перший президент незалежної Грузії.\n",
    "\n",
    "## Визначні місця\n",
    "- **Мцхета** - [Стародавня столиця Грузії](https://whc.unesco.org/en/list/708).\n",
    "- **Уплісцихе** - давнє печерне місто.\n",
    "- **Сванетія** - гірський регіон із середньовічними вежами.\n",
    "  \n",
    "![Мцхета](https://upload.wikimedia.org/wikipedia/commons/thumb/e/e2/View_to_Mtskheta_from_Jvari.jpg/270px-View_to_Mtskheta_from_Jvari.jpg)\n",
    "\n",
    "<table>\n",
    "    <tr><th>Назва</th><th>Локація</th><th>Тип</th></tr>\n",
    "    <tr><td>Мцхета</td><td>Мцхета-Мтіанеті</td><td>Культурна спадщина</td></tr>\n",
    "    <tr><td>Уплісцихе</td><td>Горі</td><td>Археологічна пам'ятка</td></tr>\n",
    "    <tr><td>Сванетія</td><td>Західна Грузія</td><td>Природна спадщина</td></tr>\n",
    "</table>\n"
   ],
   "id": "76cb757c27fd9a7f"
  },
  {
   "metadata": {},
   "cell_type": "markdown",
   "source": [
    "## Прапор Грузії\n",
    "<svg width=\"300\" height=\"200\" xmlns=\"http://www.w3.org/2000/svg\">\n",
    "  <rect width=\"100%\" height=\"100%\" fill=\"white\" />\n",
    "  <rect x=\"125\" y=\"0\" width=\"40\" height=\"200\" fill=\"red\" />\n",
    "  <rect x=\"0\" y=\"75\" width=\"300\" height=\"40\" fill=\"red\" />\n",
    "  <g fill=\"red\">\n",
    "    <rect x=\"40\" y=\"20\" width=\"10\" height=\"40\" />\n",
    "    <rect x=\"25\" y=\"35\" width=\"40\" height=\"10\" />\n",
    "    <rect x=\"250\" y=\"20\" width=\"10\" height=\"40\" />\n",
    "    <rect x=\"235\" y=\"35\" width=\"40\" height=\"10\" />\n",
    "    <rect x=\"40\" y=\"130\" width=\"10\" height=\"40\" />\n",
    "    <rect x=\"25\" y=\"145\" width=\"40\" height=\"10\" />\n",
    "    <rect x=\"250\" y=\"130\" width=\"10\" height=\"40\" />\n",
    "    <rect x=\"235\" y=\"145\" width=\"40\" height=\"10\" />\n",
    "  </g>\n",
    "</svg>\n"
   ],
   "id": "1c4c844a16af1739"
  },
  {
   "metadata": {
    "ExecuteTime": {
     "end_time": "2024-11-09T15:29:38.744243Z",
     "start_time": "2024-11-09T15:29:38.738221Z"
    }
   },
   "cell_type": "code",
   "source": [
    "def gnome_sort_descending(arr):\n",
    "    for item in arr:\n",
    "        if not isinstance(item, (int, float)):\n",
    "            return \"Помилка. У списку присутнє нечислове значення\"\n",
    "    \n",
    "    i = 0\n",
    "    while i < len(arr):\n",
    "        if i == 0 or arr[i] <= arr[i - 1]:\n",
    "            i += 1\n",
    "        else:\n",
    "            arr[i], arr[i - 1] = arr[i - 1], arr[i]\n",
    "            i -= 1\n",
    "    return arr\n"
   ],
   "id": "d666dc0349895271",
   "outputs": [],
   "execution_count": 5
  },
  {
   "metadata": {
    "ExecuteTime": {
     "end_time": "2024-11-09T15:29:10.681559Z",
     "start_time": "2024-11-09T15:29:10.677009Z"
    }
   },
   "cell_type": "code",
   "source": "print(gnome_sort_descending([10, 2, 45, 0]))",
   "id": "8c588257e75ea791",
   "outputs": [
    {
     "name": "stdout",
     "output_type": "stream",
     "text": [
      "[45, 10, 2, 0]\n"
     ]
    }
   ],
   "execution_count": 3
  },
  {
   "metadata": {
    "ExecuteTime": {
     "end_time": "2024-11-09T15:29:41.273764Z",
     "start_time": "2024-11-09T15:29:41.269657Z"
    }
   },
   "cell_type": "code",
   "source": "print(gnome_sort_descending([5, 3, 78, 3, 23, 7, 34]))",
   "id": "6950e587fb99b9bb",
   "outputs": [
    {
     "name": "stdout",
     "output_type": "stream",
     "text": [
      "[78, 34, 23, 7, 5, 3, 3]\n"
     ]
    }
   ],
   "execution_count": 6
  },
  {
   "metadata": {
    "ExecuteTime": {
     "end_time": "2024-11-09T15:29:43.327448Z",
     "start_time": "2024-11-09T15:29:43.320600Z"
    }
   },
   "cell_type": "code",
   "source": "print(gnome_sort_descending([3, 4, 23, 5, 23, \"str\", 3, 4]))",
   "id": "9f538068bbf6c871",
   "outputs": [
    {
     "name": "stdout",
     "output_type": "stream",
     "text": [
      "Помилка. У списку присутнє нечислове значення\n"
     ]
    }
   ],
   "execution_count": 7
  },
  {
   "metadata": {},
   "cell_type": "code",
   "outputs": [],
   "execution_count": null,
   "source": "",
   "id": "97cfddb4570ec264"
  }
 ],
 "metadata": {
  "kernelspec": {
   "display_name": "Python 3",
   "language": "python",
   "name": "python3"
  },
  "language_info": {
   "codemirror_mode": {
    "name": "ipython",
    "version": 2
   },
   "file_extension": ".py",
   "mimetype": "text/x-python",
   "name": "python",
   "nbconvert_exporter": "python",
   "pygments_lexer": "ipython2",
   "version": "2.7.6"
  }
 },
 "nbformat": 4,
 "nbformat_minor": 5
}
